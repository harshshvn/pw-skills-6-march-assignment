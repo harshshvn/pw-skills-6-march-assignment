{
 "cells": [
  {
   "cell_type": "markdown",
   "id": "dc9823dc-5e5b-47db-b6d6-0dae15b20a4f",
   "metadata": {},
   "source": [
    "Q1"
   ]
  },
  {
   "cell_type": "markdown",
   "id": "f425b74c-28af-4f08-b4a6-00438ad60b62",
   "metadata": {},
   "source": [
    "\n",
    "Statistics is the science concerned with developing and studying methods for collecting, analyzing, interpreting and presenting empirical data."
   ]
  },
  {
   "cell_type": "markdown",
   "id": "1c6ea9c8-e3c5-4418-9cd8-95f591d84f99",
   "metadata": {},
   "source": [
    "Q2"
   ]
  },
  {
   "cell_type": "markdown",
   "id": "15844f6d-cd49-499c-a29f-6ec81353ccb6",
   "metadata": {},
   "source": [
    "The two major areas of statistics are known as descriptive statistics, which describes the properties of sample and population data, and inferential statistics, which uses those properties to test hypotheses and draw conclusions. Descriptive statistics include mean (average), variance, skewness, and kurtosis. Inferential statistics include linear regression analysis, analysis of variance "
   ]
  },
  {
   "cell_type": "markdown",
   "id": "0d97fcc5-30b4-4edb-8e1a-52dee3233938",
   "metadata": {},
   "source": [
    "Q3"
   ]
  },
  {
   "cell_type": "markdown",
   "id": "238c9985-cb47-4a9b-a842-a13d36315a9b",
   "metadata": {},
   "source": [
    "There are two types of data: Qualitative and Quantitative data, which are further classified into:\n",
    "\n",
    "The data is classified into four categories:\n",
    "\n",
    "Nominal data-Nominal Data is used to label variables without any order or quantitative value.Ex-Gender (Male, Female, Others)\n",
    "\n",
    "Ordinal data-Ordinal data have natural ordering where a number is present in some kind of order by their position on the scale.Ex-Education Level (Higher, Secondary, Primary)\n",
    "\n",
    "Discrete data-The term discrete means distinct or separate. The discrete data contain the values that fall under integers or whole numbers.Ex-Days in a week.\n",
    "\n",
    "Continuous data-Continuous data are in the form of fractional numbers.Ex-Speed of a vehicleSpeed of a vehicle\n"
   ]
  },
  {
   "cell_type": "markdown",
   "id": "00dd5d88-985e-46f2-9764-81619e1122a0",
   "metadata": {},
   "source": [
    "Q4"
   ]
  },
  {
   "cell_type": "markdown",
   "id": "2db9075f-3b4b-4dd4-bf35-fdbf2d6300c7",
   "metadata": {},
   "source": [
    "i-Ordinal data\n",
    "\n",
    "ii-Nominal data\n",
    "\n",
    "iii-Continuous data\n",
    "\n",
    "iv-Discrete data"
   ]
  },
  {
   "cell_type": "markdown",
   "id": "01903a14-85a2-439d-a809-d1b791c39c78",
   "metadata": {},
   "source": [
    "Q5"
   ]
  },
  {
   "cell_type": "markdown",
   "id": "78e7994e-309c-4949-a2c8-0f9c04bd36fe",
   "metadata": {},
   "source": [
    "Levels of measurement, also called scales of measurement, tell you how precisely variables are recorded\n",
    "\n",
    "Nominal: the data can only be categorized\n",
    "\n",
    "Ordinal: the data can be categorized and ranked\n",
    "\n",
    "Interval: the data can be categorized, ranked, and evenly spaced\n",
    "\n",
    "Ratio: the data can be categorized, ranked, evenly spaced, and has a natural zero.\n"
   ]
  },
  {
   "cell_type": "markdown",
   "id": "b1272b4c-a830-450a-8abf-6cc79e6b59e9",
   "metadata": {},
   "source": [
    "Q6"
   ]
  },
  {
   "cell_type": "markdown",
   "id": "5c1c609e-3725-4f70-ad5f-89384529ba7e",
   "metadata": {},
   "source": [
    "\n",
    "It is important to understand the level of measurement of variables in research, because the level of measurement determines the type of statistical analysis that can be conducted, and, therefore, the type of conclusions that can be drawn from the research."
   ]
  },
  {
   "cell_type": "markdown",
   "id": "10d255d0-8ccc-4f48-8a46-cfe61f3a3e93",
   "metadata": {},
   "source": [
    "Q7"
   ]
  },
  {
   "cell_type": "markdown",
   "id": "c9ba2490-7ab2-4c13-9424-13128a6ef2da",
   "metadata": {},
   "source": [
    "Nominal data is classified without a natural order or rank, whereas ordinal data has a predetermined or natural order."
   ]
  },
  {
   "cell_type": "markdown",
   "id": "4558a2fd-e18a-4ef3-9ac1-d890dad611cc",
   "metadata": {},
   "source": [
    "Q8"
   ]
  },
  {
   "cell_type": "markdown",
   "id": "96ab50d3-2806-4532-85d5-cd1aeb5d446f",
   "metadata": {},
   "source": [
    "If the groups depicted in a bar chart are actually continuous numeric ranges, we can push the bars together to generate a histogram"
   ]
  },
  {
   "cell_type": "markdown",
   "id": "3b11e981-3516-4c08-8740-cd9fa7f85b0c",
   "metadata": {},
   "source": [
    "Q9"
   ]
  },
  {
   "cell_type": "markdown",
   "id": "a0e56fbb-f873-42ac-9aed-9cbd659b2a8f",
   "metadata": {},
   "source": [
    "Inferential statistics helps to compare data, make hypotheses and predictions. Descriptive statistics explains already known data related to a particular sample or population of a small size. Inferential statistics, however, aims to draw inferences or conclusions about a whole population."
   ]
  },
  {
   "cell_type": "markdown",
   "id": "e09b9b9b-ac13-4071-9444-7e94b2cae1a7",
   "metadata": {},
   "source": [
    "Q10"
   ]
  },
  {
   "cell_type": "markdown",
   "id": "fd7d11a1-3831-4114-bdee-a34d7321e0d6",
   "metadata": {},
   "source": [
    "\n",
    "Measures of central tendency tell us what is common or typical about our variable. Three measures of central tendency are the mode, the median and the mean. The mode is used almost exclusively with nominal-level data, as it is the only measure of central tendency available for such variables."
   ]
  }
 ],
 "metadata": {
  "kernelspec": {
   "display_name": "Python 3 (ipykernel)",
   "language": "python",
   "name": "python3"
  },
  "language_info": {
   "codemirror_mode": {
    "name": "ipython",
    "version": 3
   },
   "file_extension": ".py",
   "mimetype": "text/x-python",
   "name": "python",
   "nbconvert_exporter": "python",
   "pygments_lexer": "ipython3",
   "version": "3.10.8"
  }
 },
 "nbformat": 4,
 "nbformat_minor": 5
}
